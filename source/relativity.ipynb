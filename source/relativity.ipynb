{
 "cells": [
  {
   "cell_type": "code",
   "execution_count": 5,
   "id": "negative-principal",
   "metadata": {},
   "outputs": [
    {
     "name": "stdout",
     "output_type": "stream",
     "text": [
      "['/Users/francisdavey/src/physics/source', '/usr/local/Cellar/python@3.9/3.9.2_1/Frameworks/Python.framework/Versions/3.9/lib/python39.zip', '/usr/local/Cellar/python@3.9/3.9.2_1/Frameworks/Python.framework/Versions/3.9/lib/python3.9', '/usr/local/Cellar/python@3.9/3.9.2_1/Frameworks/Python.framework/Versions/3.9/lib/python3.9/lib-dynload', '', '/usr/local/Cellar/jupyterlab/3.0.9/libexec/lib/python3.9/site-packages', '/usr/local/Cellar/jupyterlab/3.0.9/libexec/lib/python3.9/site-packages/IPython/extensions', '/Users/francisdavey/.ipython']\n"
     ]
    }
   ],
   "source": [
    "import sys\n",
    "print(sys.path)"
   ]
  },
  {
   "cell_type": "code",
   "execution_count": 2,
   "id": "noble-information",
   "metadata": {},
   "outputs": [
    {
     "ename": "ModuleNotFoundError",
     "evalue": "No module named 'matplotlib'",
     "output_type": "error",
     "traceback": [
      "\u001b[0;31m---------------------------------------------------------------------------\u001b[0m",
      "\u001b[0;31mModuleNotFoundError\u001b[0m                       Traceback (most recent call last)",
      "\u001b[0;32m<ipython-input-2-a1d1b69c432e>\u001b[0m in \u001b[0;36m<module>\u001b[0;34m\u001b[0m\n\u001b[0;32m----> 1\u001b[0;31m \u001b[0;32mfrom\u001b[0m \u001b[0mmatplotlib\u001b[0m \u001b[0;32mimport\u001b[0m \u001b[0mrc\u001b[0m\u001b[0;34m\u001b[0m\u001b[0;34m\u001b[0m\u001b[0m\n\u001b[0m\u001b[1;32m      2\u001b[0m \u001b[0mrc\u001b[0m\u001b[0;34m(\u001b[0m\u001b[0;34m'font'\u001b[0m\u001b[0;34m,\u001b[0m\u001b[0;34m**\u001b[0m\u001b[0;34m{\u001b[0m\u001b[0;34m'family'\u001b[0m\u001b[0;34m:\u001b[0m\u001b[0;34m'sans-serif'\u001b[0m\u001b[0;34m,\u001b[0m\u001b[0;34m'sans-serif'\u001b[0m\u001b[0;34m:\u001b[0m\u001b[0;34m[\u001b[0m\u001b[0;34m'Helvetica'\u001b[0m\u001b[0;34m]\u001b[0m\u001b[0;34m}\u001b[0m\u001b[0;34m)\u001b[0m\u001b[0;34m\u001b[0m\u001b[0;34m\u001b[0m\u001b[0m\n\u001b[1;32m      3\u001b[0m \u001b[0;31m## for Palatino and other serif fonts use:\u001b[0m\u001b[0;34m\u001b[0m\u001b[0;34m\u001b[0m\u001b[0;34m\u001b[0m\u001b[0m\n\u001b[1;32m      4\u001b[0m \u001b[0;31m#rc('font',**{'family':'serif','serif':['Palatino']})\u001b[0m\u001b[0;34m\u001b[0m\u001b[0;34m\u001b[0m\u001b[0;34m\u001b[0m\u001b[0m\n\u001b[1;32m      5\u001b[0m \u001b[0mrc\u001b[0m\u001b[0;34m(\u001b[0m\u001b[0;34m'text'\u001b[0m\u001b[0;34m,\u001b[0m \u001b[0musetex\u001b[0m\u001b[0;34m=\u001b[0m\u001b[0;32mTrue\u001b[0m\u001b[0;34m)\u001b[0m\u001b[0;34m\u001b[0m\u001b[0;34m\u001b[0m\u001b[0m\n",
      "\u001b[0;31mModuleNotFoundError\u001b[0m: No module named 'matplotlib'"
     ]
    }
   ],
   "source": [
    "from matplotlib import rc\n",
    "rc('font',**{'family':'sans-serif','sans-serif':['Helvetica']})\n",
    "## for Palatino and other serif fonts use:\n",
    "#rc('font',**{'family':'serif','serif':['Palatino']})\n",
    "rc('text', usetex=True)"
   ]
  },
  {
   "cell_type": "markdown",
   "id": "retired-tolerance",
   "metadata": {},
   "source": [
    "Set up situation.\n",
    "\n",
    "Train drivers passing by each other. Really very fast trains. Actually had better be spaceships. With velocity $v$. Velocity could be measured in anything so we may need a conversion factor."
   ]
  },
  {
   "cell_type": "markdown",
   "id": "elegant-diesel",
   "metadata": {},
   "source": [
    "Each sees the other's measuring rods shrunk along the axis of movement by a factor of $\\sqrt{1-\\frac{v^2}{c^2}}$. This shrinkage factor is so important that it has its own name $\\beta$ (it is also much easier to write $\\beta$ in what follows. Here $c$ stands for a conversion factor $299792458ms^{-1}$, which makes $\\frac{v^2}{c^2}$ dimensionless. It did not matter what we used. What $c$ means will make sense in a moment (forward ref)."
   ]
  },
  {
   "cell_type": "markdown",
   "id": "empty-fault",
   "metadata": {},
   "source": [
    "\n",
    "\n",
    "(Fitzgerald contraction)\n",
    "\n",
    "Note that because $\\beta$ depends on $v^2$ it is the same for positive and negativ velocities. In other words both scientists see the same shrinkage of the other. You very occasionally hear it said ``rods contract if you move faster'' but that {\\it sounds} like it would be one-sided. How can both scientists think the other one's rod is contracting, who is right (neither?), what is going on. We aren't seeing the whole picture.\n",
    "\n",
    "As velocity increases and gets closer to $c$ then $\\beta$ tends to zero. (see graph). This suggests that things are likely to go wrong "
   ]
  },
  {
   "cell_type": "code",
   "execution_count": 8,
   "id": "integrated-price",
   "metadata": {},
   "outputs": [],
   "source": [
    "import os\n"
   ]
  },
  {
   "cell_type": "code",
   "execution_count": 9,
   "id": "driven-effects",
   "metadata": {},
   "outputs": [
    {
     "name": "stdout",
     "output_type": "stream",
     "text": [
      "/Users/francisdavey/src/physics/source\n"
     ]
    }
   ],
   "source": [
    "print(os.getcwd())"
   ]
  },
  {
   "cell_type": "code",
   "execution_count": 11,
   "id": "swiss-cover",
   "metadata": {},
   "outputs": [
    {
     "name": "stdout",
     "output_type": "stream",
     "text": [
      "['/Users/francisdavey/src/physics/source', '/usr/local/Cellar/python@3.9/3.9.2_1/Frameworks/Python.framework/Versions/3.9/lib/python39.zip', '/usr/local/Cellar/python@3.9/3.9.2_1/Frameworks/Python.framework/Versions/3.9/lib/python3.9', '/usr/local/Cellar/python@3.9/3.9.2_1/Frameworks/Python.framework/Versions/3.9/lib/python3.9/lib-dynload', '', '/usr/local/Cellar/jupyterlab/3.0.9/libexec/lib/python3.9/site-packages', '/usr/local/Cellar/jupyterlab/3.0.9/libexec/lib/python3.9/site-packages/IPython/extensions', '/Users/francisdavey/.ipython']\n"
     ]
    }
   ],
   "source": [
    "print(sys.path)"
   ]
  },
  {
   "cell_type": "code",
   "execution_count": 12,
   "id": "about-green",
   "metadata": {},
   "outputs": [
    {
     "name": "stdout",
     "output_type": "stream",
     "text": [
      "/usr/local/Cellar/jupyterlab/3.0.9/libexec/bin/python3\n"
     ]
    }
   ],
   "source": [
    "print(sys.executable)"
   ]
  },
  {
   "cell_type": "code",
   "execution_count": 14,
   "id": "found-gardening",
   "metadata": {},
   "outputs": [
    {
     "name": "stdout",
     "output_type": "stream",
     "text": [
      "\n",
      "Please wait a moment while I gather a list of all available modules...\n",
      "\n"
     ]
    },
    {
     "name": "stderr",
     "output_type": "stream",
     "text": [
      "/usr/local/Cellar/jupyterlab/3.0.9/libexec/lib/python3.9/site-packages/IPython/kernel/__init__.py:12: ShimWarning: The `IPython.kernel` package has been deprecated since IPython 4.0.You should import from ipykernel or jupyter_client instead.\n",
      "  warn(\"The `IPython.kernel` package has been deprecated since IPython 4.0.\"\n"
     ]
    },
    {
     "name": "stdout",
     "output_type": "stream",
     "text": [
      "IPython             abc                 imp                 re\n",
      "__future__          aifc                importlib           readline\n",
      "_abc                antigravity         inspect             reprlib\n",
      "_aix_support        anyio               io                  requests\n",
      "_ast                appnope             ipaddress           resource\n",
      "_asyncio            argon2              ipykernel           rlcompleter\n",
      "_bisect             argparse            ipykernel_launcher  rmagic\n",
      "_blake2             array               ipython_genutils    runpy\n",
      "_bootlocale         ast                 itertools           sched\n",
      "_bootsubprocess     async_generator     jedi                secrets\n",
      "_bz2                asynchat            jinja2              select\n",
      "_cffi_backend       asyncio             json                selectors\n",
      "_codecs             asyncore            json5               send2trash\n",
      "_codecs_cn          atexit              jsonschema          setuptools\n",
      "_codecs_hk          attr                jupyter             shelve\n",
      "_codecs_iso2022     audioop             jupyter_client      shlex\n",
      "_codecs_jp          autoreload          jupyter_console     shutil\n",
      "_codecs_kr          babel               jupyter_core        signal\n",
      "_codecs_tw          backcall            jupyter_packaging   site\n",
      "_collections        base64              jupyter_server      six\n",
      "_collections_abc    bdb                 jupyterlab          smtpd\n",
      "_compat_pickle      binascii            jupyterlab_pygments smtplib\n",
      "_compression        binhex              jupyterlab_server   sndhdr\n",
      "_contextvars        bisect              keyword             sniffio\n",
      "_crypt              bleach              lib2to3             socket\n",
      "_csv                builtins            linecache           socketserver\n",
      "_ctypes             bz2                 locale              sqlite3\n",
      "_ctypes_test        cProfile            logging             sre_compile\n",
      "_curses             calendar            lzma                sre_constants\n",
      "_curses_panel       cffi                mailbox             sre_parse\n",
      "_datetime           cgi                 mailcap             ssl\n",
      "_dbm                cgitb               markupsafe          stat\n",
      "_decimal            chunk               marshal             statistics\n",
      "_distutils_hack     cmath               math                storemagic\n",
      "_elementtree        cmd                 mimetypes           string\n",
      "_functools          code                mistune             stringprep\n",
      "_gdbm               codecs              mmap                struct\n",
      "_hashlib            codeop              modulefinder        subprocess\n",
      "_heapq              collections         multiprocessing     sunau\n",
      "_imp                colorsys            nbclassic           symbol\n",
      "_io                 compileall          nbclient            sympyprinting\n",
      "_json               concurrent          nbconvert           symtable\n",
      "_locale             configparser        nbformat            sys\n",
      "_lsprof             contextlib          nest_asyncio        sysconfig\n",
      "_lzma               contextvars         netrc               syslog\n",
      "_markupbase         copy                nis                 tabnanny\n",
      "_md5                copyreg             nntplib             tarfile\n",
      "_multibytecodec     crypt               notebook            telnetlib\n",
      "_multiprocessing    csv                 ntpath              tempfile\n",
      "_opcode             ctypes              nturl2path          terminado\n",
      "_operator           curses              numbers             termios\n",
      "_osx_support        cythonmagic         opcode              test\n",
      "_peg_parser         dataclasses         operator            testpath\n",
      "_pickle             datetime            optparse            tests\n",
      "_posixshmem         dateutil            os                  textwrap\n",
      "_posixsubprocess    dbm                 packaging           this\n",
      "_py_abc             decimal             pandocfilters       threading\n",
      "_pydecimal          decorator           parser              time\n",
      "_pyio               defusedxml          parso               timeit\n",
      "_pyrsistent_version difflib             pathlib             tkinter\n",
      "_queue              dis                 pdb                 token\n",
      "_random             distutils           pexpect             tokenize\n",
      "_scproxy            doctest             pickle              tornado\n",
      "_sha1               email               pickleshare         trace\n",
      "_sha256             encodings           pickletools         traceback\n",
      "_sha3               ensurepip           pip                 tracemalloc\n",
      "_sha512             entrypoints         pipes               traitlets\n",
      "_signal             enum                pkg_resources       tty\n",
      "_sitebuiltins       errno               pkgutil             turtle\n",
      "_socket             faulthandler        platform            turtledemo\n",
      "_sqlite3            fcntl               plistlib            types\n",
      "_sre                filecmp             poplib              typing\n",
      "_ssl                fileinput           posix               unicodedata\n",
      "_stat               fnmatch             posixpath           unittest\n",
      "_statistics         formatter           pprint              urllib\n",
      "_string             fractions           profile             uu\n",
      "_strptime           ftplib              prometheus_client   uuid\n",
      "_struct             functools           prompt_toolkit      venv\n",
      "_symtable           gc                  pstats              warnings\n",
      "_sysconfigdata__darwin_darwin genericpath         pty                 wave\n",
      "_testbuffer         getopt              ptyprocess          wcwidth\n",
      "_testcapi           getpass             pvectorc            weakref\n",
      "_testimportmultiple gettext             pwd                 webbrowser\n",
      "_testinternalcapi   glob                py_compile          webencodings\n",
      "_testmultiphase     graphlib            pyclbr              wsgiref\n",
      "_thread             grp                 pycparser           xdrlib\n",
      "_threading_local    gzip                pydoc               xml\n",
      "_tkinter            hashlib             pydoc_data          xmlrpc\n",
      "_tracemalloc        heapq               pyexpat             xxlimited\n",
      "_uuid               hmac                pygments            xxsubtype\n",
      "_warnings           html                pyparsing           zipapp\n",
      "_weakref            http                pyrsistent          zipfile\n",
      "_weakrefset         idlelib             pytz                zipimport\n",
      "_xxsubinterpreters  idna                queue               zlib\n",
      "_xxtestfuzz         imaplib             quopri              zmq\n",
      "_zoneinfo           imghdr              random              zoneinfo\n",
      "\n",
      "Enter any module name to get more help.  Or, type \"modules spam\" to search\n",
      "for modules whose name or summary contain the string \"spam\".\n",
      "\n",
      "None\n"
     ]
    },
    {
     "name": "stderr",
     "output_type": "stream",
     "text": [
      "/usr/local/Cellar/python@3.9/3.9.2_1/Frameworks/Python.framework/Versions/3.9/lib/python3.9/pkgutil.py:108: VisibleDeprecationWarning: zmq.eventloop.minitornado is deprecated in pyzmq 14.0 and will be removed.\n",
      "    Install tornado itself to use zmq with the tornado IOLoop.\n",
      "    \n",
      "  yield from walk_packages(path, info.name+'.', onerror)\n"
     ]
    }
   ],
   "source": [
    "print(help(\"modules\"))"
   ]
  },
  {
   "cell_type": "code",
   "execution_count": null,
   "id": "american-february",
   "metadata": {},
   "outputs": [],
   "source": []
  }
 ],
 "metadata": {
  "kernelspec": {
   "display_name": "Python 3",
   "language": "python",
   "name": "python3"
  },
  "language_info": {
   "codemirror_mode": {
    "name": "ipython",
    "version": 3
   },
   "file_extension": ".py",
   "mimetype": "text/x-python",
   "name": "python",
   "nbconvert_exporter": "python",
   "pygments_lexer": "ipython3",
   "version": "3.9.2"
  }
 },
 "nbformat": 4,
 "nbformat_minor": 5
}
